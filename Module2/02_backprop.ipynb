{
  "cells": [
    {
      "cell_type": "markdown",
      "metadata": {
        "id": "aqXWcs3sH3n5"
      },
      "source": [
        "[![Dataflowr](https://raw.githubusercontent.com/dataflowr/website/master/_assets/dataflowr_logo.png)](https://dataflowr.github.io/website/)"
      ]
    },
    {
      "cell_type": "markdown",
      "metadata": {
        "id": "8FM8CQHKcfhx"
      },
      "source": [
        "# Practical 2: Simple implementation of backprop\n",
        "\n",
        "[Video timestamp](https://youtu.be/Z6H3zakmn6E?t=2640)\n",
        "\n",
        "Here we implement a simple backpropagation algorithm with `numpy` for the following problem:\n",
        "\n",
        "We generate points $(x_t,y_t)$ where $y_t= \\exp(w^*x_t+b^*)$, i.e $y^*_t$ is obtained by applying a deterministic function to $x_t$ with parameters $w^*$ and $b^*$. Our goal is to recover the parameters $w^*$ and $b^*$ from the observations $(x_t,y_t)$.\n",
        "\n",
        "To do this, we use SGD to minimize $\\sum_t(y^t - \\exp(w x_t+b))^2$ with respect to $w$ and $b$.\n",
        "\n",
        "In these practicals, we will implement **Stochastic Gradient Descent with minibatches of size 1** and not Batched Gradient Descent as seen in lesson 2.\n",
        "\n",
        "The modification to the algorithm is as follows: we want to minimize the loss given by:\n",
        "$$\n",
        "loss = \\sum_t\\underbrace{\\left(\\exp(w x_t+b)-y_t \\right)^2}_{loss_t}.\n",
        "$$\n",
        "\n",
        "To minimize the loss we first compute the gradient of each $loss_t$:\n",
        "$\\frac{\\partial{loss_t}}{\\partial w}$, and $\\frac{\\partial{loss_t}}{\\partial b}$.\n",
        "\n",
        "For one epoch, **Stochastic Gradient Descent with minibatches of size 1** then updates the weigts and bias by running the following loop: \n",
        "\n",
        "for $t \\in \\{1,\\dots,30\\}$, \n",
        "\n",
        "\\begin{eqnarray*}\n",
        "w_{t+1}&=&w^1_{t}-\\alpha\\frac{\\partial{loss_t}}{\\partial w} \\\\\n",
        "b_{t+1}&=&b_{t}-\\alpha\\frac{\\partial{loss_t}}{\\partial b},\n",
        "\\end{eqnarray*}\n",
        "\n",
        "if $t = 30$, set $w_1=w_{31}$, and $b_1=b_{31}$.\n",
        "\n",
        "$\\alpha>0$ is called the learning rate.\n",
        "\n",
        "Then we run several epochs...\n",
        "\n",
        "We see that one epoch is much less costly than in the Batched Gradient Descent algorithm as you only need to have acces to one sample to make one update, whereas in the batched setting, you need to make a pass on the whole dataset to make an update. Of course, we are not computing the gradient here and the partial derivatives can be seen as noisy estimation of the gradient."
      ]
    },
    {
      "cell_type": "code",
      "execution_count": null,
      "metadata": {
        "id": "z-62DGjicfh3"
      },
      "outputs": [],
      "source": [
        "# You do not need PyTorch for these practicals\n",
        "import numpy as np\n",
        "import matplotlib.pyplot as plt"
      ]
    },
    {
      "cell_type": "code",
      "execution_count": null,
      "metadata": {
        "id": "SQlF4jhfcfiD"
      },
      "outputs": [],
      "source": [
        "w, b = 0.5, 2\n",
        "xx = np.arange(0,1,.01)\n",
        "yy = np.exp(w*xx+b)"
      ]
    },
    {
      "cell_type": "code",
      "execution_count": null,
      "metadata": {
        "colab": {
          "base_uri": "https://localhost:8080/",
          "height": 282
        },
        "id": "4OIvcmsqcfiL",
        "outputId": "cfd404c0-628a-4b4f-95c3-6695bd32a169"
      },
      "outputs": [
        {
          "output_type": "execute_result",
          "data": {
            "text/plain": [
              "[<matplotlib.lines.Line2D at 0x7ff8156ff7c0>]"
            ]
          },
          "metadata": {},
          "execution_count": 3
        },
        {
          "output_type": "display_data",
          "data": {
            "text/plain": [
              "<Figure size 432x288 with 1 Axes>"
            ],
            "image/png": "[encoded data removed]"
          },
          "metadata": {
            "needs_background": "light"
          }
        }
      ],
      "source": [
        "plt.plot(yy)"
      ]
    },
    {
      "cell_type": "markdown",
      "metadata": {
        "id": "siSZvSBBcfiW"
      },
      "source": [
        "Following what we just saw in the course, you need to implement each of the basic operations: `(.*w), (.+b), exp(.)` with a forward method, a backward method and a step method."
      ]
    },
    {
      "cell_type": "markdown",
      "metadata": {
        "id": "Xfy5oCZBMnVj"
      },
      "source": [
        "If you are not familiar with [classes](https://docs.python.org/3/tutorial/classes.html) in Python, you should learn its basics as it will be required to follow the rest of the course.\n",
        "\n",
        "To help you, I have implemented the `(.+b)` operation as a Python class below:"
      ]
    },
    {
      "cell_type": "code",
      "execution_count": null,
      "metadata": {
        "id": "PeY2DlqNcfiZ"
      },
      "outputs": [],
      "source": [
        "class add_bias(object):\n",
        "    def __init__(self,b):\n",
        "        # initialize with a bias b\n",
        "        self.b = b\n",
        "        \n",
        "    def forward(self, x):\n",
        "        # return the result of adding the bias      \n",
        "        return x + self.b\n",
        "    \n",
        "    def backward(self,grad):\n",
        "        # save the gradient (to update the bias in the step method) and return the gradient backward\n",
        "        self.grad = grad\n",
        "        return grad\n",
        "    \n",
        "    def step(self, learning_rate):\n",
        "        # update the bias\n",
        "        self.b -= learning_rate * self.grad        "
      ]
    },
    {
      "cell_type": "markdown",
      "metadata": {
        "id": "UBLMKY1nMnVm"
      },
      "source": [
        "Consider now a simpler problem where you have $z_t = x_t+b^*$ and your task is to estmiate $b^*$ by minimizing the loss $\\sum_t(x_t+b-z_t)^2$ as a function of $b$ with SGD. You can use the `add_bias` defined above as follows:"
      ]
    },
    {
      "cell_type": "code",
      "execution_count": null,
      "metadata": {
        "id": "lZpxeNqQMnVn"
      },
      "outputs": [],
      "source": [
        "# first compute the z_t with a true bias of 5:\n",
        "zz = xx+5\n",
        "\n",
        "#start with an initial guess of 1 for the bias:\n",
        "My_add_bias = add_bias(1)"
      ]
    },
    {
      "cell_type": "code",
      "execution_count": null,
      "metadata": {
        "colab": {
          "base_uri": "https://localhost:8080/"
        },
        "id": "NLoIijKPMnVq",
        "outputId": "db62c7fe-6a05-4111-a9ff-6e5b978d848d"
      },
      "outputs": [
        {
          "output_type": "execute_result",
          "data": {
            "text/plain": [
              "1.1"
            ]
          },
          "metadata": {},
          "execution_count": 6
        }
      ],
      "source": [
        "j = 10\n",
        "# your predicition will be for each sample\n",
        "z_pred = My_add_bias.forward(xx[j])\n",
        "z_pred"
      ]
    },
    {
      "cell_type": "code",
      "execution_count": null,
      "metadata": {
        "id": "-ppGMgc7MnVt"
      },
      "outputs": [],
      "source": [
        "# start with the gradient of the quadratic loss\n",
        "grad = 2*(z_pred-zz[j])"
      ]
    },
    {
      "cell_type": "code",
      "execution_count": null,
      "metadata": {
        "colab": {
          "base_uri": "https://localhost:8080/"
        },
        "id": "lVIy0xeAMnVv",
        "outputId": "0112c974-3781-4f4e-ae18-39d02ba607c4"
      },
      "outputs": [
        {
          "output_type": "execute_result",
          "data": {
            "text/plain": [
              "-7.999999999999999"
            ]
          },
          "metadata": {},
          "execution_count": 8
        }
      ],
      "source": [
        "# backpropagate the gradient to the parameter b\n",
        "My_add_bias.backward(grad)"
      ]
    },
    {
      "cell_type": "code",
      "execution_count": null,
      "metadata": {
        "colab": {
          "base_uri": "https://localhost:8080/"
        },
        "id": "cJtZICCiMnVy",
        "outputId": "b2273881-9cda-4792-8da8-de1533463723"
      },
      "outputs": [
        {
          "output_type": "execute_result",
          "data": {
            "text/plain": [
              "1.08"
            ]
          },
          "metadata": {},
          "execution_count": 9
        }
      ],
      "source": [
        "# make an update of the bias\n",
        "My_add_bias.step(1e-2)\n",
        "My_add_bias.b"
      ]
    },
    {
      "cell_type": "markdown",
      "metadata": {
        "id": "3ZWF5vaTMnV0"
      },
      "source": [
        "The code above corresponds to one SGD update.\n",
        "Below, I coded the training loop for SGD where the update on the parameter is done each time you see a sample: for each sample $j$, you compute the associated "
      ]
    },
    {
      "cell_type": "code",
      "execution_count": null,
      "metadata": {
        "id": "_p1nC0dpMnV1"
      },
      "outputs": [],
      "source": [
        "My_add_bias = add_bias(1)\n",
        "estimated_b = [1]\n",
        "for i in range(500):\n",
        "    # take a random indice\n",
        "    j = np.random.randint(1, len(xx))\n",
        "    z_pred = My_add_bias.forward(xx[j])\n",
        "    grad = 2*(z_pred-zz[j])\n",
        "    _ = My_add_bias.backward(grad)\n",
        "    My_add_bias.step(1e-2)\n",
        "    estimated_b.append(My_add_bias.b)"
      ]
    },
    {
      "cell_type": "code",
      "execution_count": null,
      "metadata": {
        "colab": {
          "base_uri": "https://localhost:8080/",
          "height": 282
        },
        "id": "y3cekk-nMnV4",
        "outputId": "38d0ed4b-1696-4bbe-b24f-b65ccdf33e99"
      },
      "outputs": [
        {
          "output_type": "execute_result",
          "data": {
            "text/plain": [
              "[<matplotlib.lines.Line2D at 0x7ff8152379a0>]"
            ]
          },
          "metadata": {},
          "execution_count": 11
        },
        {
          "output_type": "display_data",
          "data": {
            "text/plain": [
              "<Figure size 432x288 with 1 Axes>"
            ],
            "image/png": "[encoded data removed]"
          },
          "metadata": {
            "needs_background": "light"
          }
        }
      ],
      "source": [
        "plt.plot(estimated_b)"
      ]
    },
    {
      "cell_type": "markdown",
      "metadata": {
        "id": "EaqpsHK6MnV6"
      },
      "source": [
        "Although SGD is computing a noisy version of the gradient, we see that SGD converges to the right solution in this case.\n",
        "\n",
        "Now it is your turn!\n",
        "Following what we just saw in the course, you need to implement each of the basic operations: `(.*w), exp(.)` with a forward method, a backward method and a step method.\n",
        "\n",
        "![backprop3](https://dataflowr.github.io/notebooks/Module2/img/backprop3.png)"
      ]
    },
    {
      "cell_type": "code",
      "execution_count": null,
      "metadata": {
        "id": "58L4gjz1MnV7"
      },
      "outputs": [],
      "source": [
        "class multiplication_weight(object):\n",
        "    def __init__(self, w):\n",
        "        # initialize with a weight w\n",
        "        self.w = w \n",
        "        \n",
        "    def forward(self, x):\n",
        "        # return the result of multiplying by weight\n",
        "        self.valuex = x\n",
        "        return self.w * x\n",
        "               \n",
        "    def backward(self,grad):\n",
        "        # save the gradient and return the gradient backward\n",
        "        self.grad = grad * self.valuex\n",
        "        return self.grad\n",
        "            \n",
        "    def step(self, learning_rate):\n",
        "        # update the weight\n",
        "        self.w -= learning_rate * self.grad\n",
        "        \n",
        "class my_exp(object):\n",
        "    # no parameter\n",
        "    def forward(self, x):\n",
        "        # return exp(x)\n",
        "        self.expx = np.exp(x)\n",
        "        return np.exp(x)\n",
        "            \n",
        "    def backward(self,grad):\n",
        "        # return the gradient backward\n",
        "        return grad * self.expx\n",
        "            \n",
        "    def step(self, learning_rate):\n",
        "        # any parameter to update?\n",
        "        # Hint https://docs.python.org/3/reference/simple_stmts.html#the-pass-statement\n",
        "        pass\n",
        "        "
      ]
    },
    {
      "cell_type": "markdown",
      "metadata": {
        "id": "koymOfVlcfih"
      },
      "source": [
        "Now, you will need to compose sequentially these operations and here you need to code a class composing operations. This class will have a forward, a backward and a step method and also a compute_loss method."
      ]
    },
    {
      "cell_type": "code",
      "execution_count": null,
      "metadata": {
        "id": "EM5M8GCecfik"
      },
      "outputs": [],
      "source": [
        "class my_composition(object):\n",
        "    def __init__(self, layers):\n",
        "        # initialize with all the operations (called layers here!) in the right order...\n",
        "        self.layers = layers\n",
        "                \n",
        "    def forward(self, x):\n",
        "        # apply the forward method of each layer\n",
        "        for layer in self.layers:\n",
        "          x = layer.forward(x)\n",
        "        return x\n",
        "\n",
        "    def compute_loss(self, y_est, y_target):\n",
        "        # use the L2 loss\n",
        "        # return the loss and save the gradient of the loss\n",
        "        loss = (y_est - y_target)**2\n",
        "        self.grad = 2 * (y_est - y_target)\n",
        "        return loss\n",
        "            \n",
        "    def backward(self):\n",
        "        # apply backprop sequentially, starting from the gradient of the loss\n",
        "        # Hint: https://docs.python.org/3/library/functions.html#reversed\n",
        "        current_grad = self.grad\n",
        "        for layer in reversed(self.layers):\n",
        "          current_grad = layer.backward(current_grad)\n",
        "\n",
        "    def step(self, learning_rate):\n",
        "        # apply the step method of each layer\n",
        "        for layer in self.layers:\n",
        "          layer.step(learning_rate)        "
      ]
    },
    {
      "cell_type": "markdown",
      "metadata": {
        "id": "Hs1M-kebcfir"
      },
      "source": [
        "Now you need to code the 'training' loop. Keep track of the loss, weight and bias computed at each epoch."
      ]
    },
    {
      "cell_type": "code",
      "execution_count": null,
      "metadata": {
        "id": "IWJgoCEKcfiu"
      },
      "outputs": [],
      "source": [
        "my_fit = my_composition([multiplication_weight(1),add_bias(1), my_exp()])\n",
        "learning_rate = 1e-4\n",
        "losses =[]\n",
        "ws = []\n",
        "bs = []\n",
        "for i in range(5000):\n",
        "    # take a random indice\n",
        "    j = np.random.randint(1, len(xx))\n",
        "    # you can compare with\n",
        "    #j = i % len(xx)\n",
        "    # compute the estimated value of y from xx[j] with the current values of the parameters\n",
        "    y_est = my_fit.forward(xx[j])\n",
        "    # compute the loss and save it\n",
        "    losss = my_fit.compute_loss(y_est, yy[j])\n",
        "    # update the parameters \n",
        "    my_fit.backward()\n",
        "    my_fit.step(learning_rate)\n",
        "    #and save them\n",
        "    losses.append(losss)\n",
        "    ws.append(my_fit.layers[0].w)\n",
        "    bs.append(my_fit.layers[1].b)"
      ]
    },
    {
      "cell_type": "code",
      "execution_count": null,
      "metadata": {
        "colab": {
          "base_uri": "https://localhost:8080/"
        },
        "id": "V7mp0eEEcfi2",
        "outputId": "dcdcd6f1-ec26-4351-c247-f67bc956702a"
      },
      "outputs": [
        {
          "output_type": "execute_result",
          "data": {
            "text/plain": [
              "0.5057928016129475"
            ]
          },
          "metadata": {},
          "execution_count": 15
        }
      ],
      "source": [
        "my_fit.layers[0].w"
      ]
    },
    {
      "cell_type": "code",
      "execution_count": null,
      "metadata": {
        "colab": {
          "base_uri": "https://localhost:8080/"
        },
        "id": "t54ayZNDcfi9",
        "outputId": "2f06a81a-3f0d-4cd6-8cf3-7081f3da3dd2"
      },
      "outputs": [
        {
          "output_type": "execute_result",
          "data": {
            "text/plain": [
              "1.9964089058179777"
            ]
          },
          "metadata": {},
          "execution_count": 16
        }
      ],
      "source": [
        "my_fit.layers[1].b"
      ]
    },
    {
      "cell_type": "code",
      "execution_count": null,
      "metadata": {
        "colab": {
          "base_uri": "https://localhost:8080/",
          "height": 282
        },
        "id": "4Gqz5CxzcfjG",
        "outputId": "8068500d-01b1-4d01-e6a2-5a8a7f5dacf5"
      },
      "outputs": [
        {
          "output_type": "execute_result",
          "data": {
            "text/plain": [
              "[<matplotlib.lines.Line2D at 0x7ff815125280>]"
            ]
          },
          "metadata": {},
          "execution_count": 17
        },
        {
          "output_type": "display_data",
          "data": {
            "text/plain": [
              "<Figure size 432x288 with 1 Axes>"
            ],
            "image/png": "[encoded data removed]"
          },
          "metadata": {
            "needs_background": "light"
          }
        }
      ],
      "source": [
        "plt.plot(losses)"
      ]
    },
    {
      "cell_type": "code",
      "execution_count": null,
      "metadata": {
        "colab": {
          "base_uri": "https://localhost:8080/",
          "height": 282
        },
        "id": "kaHnaX8jcfjN",
        "outputId": "8c1072b9-4e09-497c-99c6-cf665e8c4f88"
      },
      "outputs": [
        {
          "output_type": "execute_result",
          "data": {
            "text/plain": [
              "[<matplotlib.lines.Line2D at 0x7ff8150f7400>]"
            ]
          },
          "metadata": {},
          "execution_count": 18
        },
        {
          "output_type": "display_data",
          "data": {
            "text/plain": [
              "<Figure size 432x288 with 1 Axes>"
            ],
            "image/png": "[encoded data removed]"
          },
          "metadata": {
            "needs_background": "light"
          }
        }
      ],
      "source": [
        "plt.plot(bs)"
      ]
    },
    {
      "cell_type": "code",
      "execution_count": null,
      "metadata": {
        "colab": {
          "base_uri": "https://localhost:8080/",
          "height": 282
        },
        "id": "ch28XtPUcfjV",
        "outputId": "4c831c4d-41ef-4d93-a23f-36c5901a7baf"
      },
      "outputs": [
        {
          "output_type": "execute_result",
          "data": {
            "text/plain": [
              "[<matplotlib.lines.Line2D at 0x7ff8150d24c0>]"
            ]
          },
          "metadata": {},
          "execution_count": 19
        },
        {
          "output_type": "display_data",
          "data": {
            "text/plain": [
              "<Figure size 432x288 with 1 Axes>"
            ],
            "image/png": "[encoded data removed]"
          },
          "metadata": {
            "needs_background": "light"
          }
        }
      ],
      "source": [
        "plt.plot(ws)"
      ]
    },
    {
      "cell_type": "markdown",
      "metadata": {
        "id": "Q4Qb9d65NFpo"
      },
      "source": [
        "Now you understand how Pytorch deals with automatic differentiation!!"
      ]
    },
    {
      "cell_type": "code",
      "metadata": {
        "colab": {
          "base_uri": "https://localhost:8080/",
          "height": 131
        },
        "id": "x9x7Vwc_MnWT",
        "outputId": "d82a3e7b-c628-482e-9715-bf4ce8623141"
      },
      "source": [
        "[![Dataflowr](https://raw.githubusercontent.com/dataflowr/website/master/_assets/dataflowr_logo.png)](https://dataflowr.github.io/website/)"
      ],
      "execution_count": null,
      "outputs": [
        {
          "output_type": "error",
          "ename": "SyntaxError",
          "evalue": "ignored",
          "traceback": [
            "\u001b[0;36m  File \u001b[0;32m\"<ipython-input-20-ae85243413df>\"\u001b[0;36m, line \u001b[0;32m1\u001b[0m\n\u001b[0;31m    [![Dataflowr](https://raw.githubusercontent.com/dataflowr/website/master/_assets/dataflowr_logo.png)](https://dataflowr.github.io/website/)\u001b[0m\n\u001b[0m     ^\u001b[0m\n\u001b[0;31mSyntaxError\u001b[0m\u001b[0;31m:\u001b[0m invalid syntax\n"
          ]
        }
      ]
    }
  ],
  "metadata": {
    "colab": {
      "provenance": []
    },
    "kernelspec": {
      "display_name": "Python 3",
      "language": "python",
      "name": "python3"
    },
    "language_info": {
      "codemirror_mode": {
        "name": "ipython",
        "version": 3
      },
      "file_extension": ".py",
      "mimetype": "text/x-python",
      "name": "python",
      "nbconvert_exporter": "python",
      "pygments_lexer": "ipython3",
      "version": "3.6.9"
    }
  },
  "nbformat": 4,
  "nbformat_minor": 0
}